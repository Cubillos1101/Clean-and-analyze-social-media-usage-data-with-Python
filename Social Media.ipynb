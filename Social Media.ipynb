{
 "cells": [
  {
   "cell_type": "markdown",
   "metadata": {},
   "source": [
    "# Clean & Analyze Social Media"
   ]
  },
  {
   "cell_type": "markdown",
   "metadata": {},
   "source": [
    "## **Introduction**"
   ]
  },
  {
   "cell_type": "markdown",
   "metadata": {},
   "source": [
    "En la era digital, las marcas y empresas buscan estrategias efectivas para aumentar su alcance y engagement en redes sociales. Sin embargo, la falta de un enfoque basado en datos dificulta la selección de los influencers adecuados para campañas publicitarias. En Colombia, donde las redes sociales tienen un gran impacto en el comportamiento de consumo, identificar qué categorías de contenido generan más interacción y cómo los influencers optimizan sus publicaciones es clave para mejorar el rendimiento de las estrategias de marketing digital"
   ]
  },
  {
   "cell_type": "markdown",
   "metadata": {},
   "source": [
    "### Pregunta principal del análisis\n"
   ]
  },
  {
   "cell_type": "markdown",
   "metadata": {},
   "source": [
    "¿Cómo varía el engagement de los influencers colombianos en redes sociales según la categoría de contenido que publican, y qué estrategias pueden aplicarse para optimizar el alcance y la interacción de las marcas en estas plataformas?"
   ]
  },
  {
   "cell_type": "markdown",
   "metadata": {},
   "source": [
    "### Preparación y Recolección de Datos"
   ]
  },
  {
   "cell_type": "markdown",
   "metadata": {},
   "source": [
    "En esta etapa, descargaremos la base de datos de los 'Top 100 Social Media Influencers 2024 Countrywise' desde KaggleHub. Posteriormente, filtraremos los datos para seleccionar únicamente los influencers de Colombia. Esto nos permitirá analizar su desempeño en redes sociales y extraer información valiosa sobre las categorías de contenido que generan mayor engagement.\n",
    "\n",
    "Pasos a seguir:\n",
    "1. Descargar la base de datos utilizando KaggleHub.\n",
    "2. Cargar los datos en un DataFrame de Pandas.\n",
    "3. Seleccionar el archivo específico 'instagram_data_colombia.csv' ubicado en la carpeta 'colombia'.\n",
    "4. Mostrar una vista previa de los datos con `.head()`"
   ]
  },
  {
   "cell_type": "code",
   "execution_count": 1,
   "metadata": {},
   "outputs": [
    {
     "name": "stderr",
     "output_type": "stream",
     "text": [
      "C:\\Users\\cubil\\AppData\\Local\\Packages\\PythonSoftwareFoundation.Python.3.11_qbz5n2kfra8p0\\LocalCache\\local-packages\\Python311\\site-packages\\tqdm\\auto.py:21: TqdmWarning: IProgress not found. Please update jupyter and ipywidgets. See https://ipywidgets.readthedocs.io/en/stable/user_install.html\n",
      "  from .autonotebook import tqdm as notebook_tqdm\n"
     ]
    }
   ],
   "source": [
    "import kagglehub\n",
    "import pandas as pd\n",
    "import os\n",
    "import matplotlib.pyplot as plt\n",
    "import seaborn as sns\n",
    "import numpy as np"
   ]
  },
  {
   "cell_type": "code",
   "execution_count": 2,
   "metadata": {},
   "outputs": [
    {
     "name": "stdout",
     "output_type": "stream",
     "text": [
      "Path to dataset files: C:\\Users\\cubil\\.cache\\kagglehub\\datasets\\bhavyadhingra00020\\top-100-social-media-influencers-2024-countrywise\\versions\\2\n"
     ]
    }
   ],
   "source": [
    "# Descargar la ultima version del dataset\n",
    "dataset_path = kagglehub.dataset_download(\"bhavyadhingra00020/top-100-social-media-influencers-2024-countrywise\")\n",
    "dataset_path\n",
    "print(\"Path to dataset files:\", dataset_path)"
   ]
  },
  {
   "cell_type": "code",
   "execution_count": 3,
   "metadata": {},
   "outputs": [
    {
     "name": "stdout",
     "output_type": "stream",
     "text": [
      "Archivos y carpetas en el dataset:\n",
      "['Top 100 Influencers']\n"
     ]
    }
   ],
   "source": [
    "# Verificar la estructura del dataset descargado\n",
    "print(\"Archivos y carpetas en el dataset:\")\n",
    "print(os.listdir(dataset_path))"
   ]
  },
  {
   "cell_type": "code",
   "execution_count": 4,
   "metadata": {},
   "outputs": [
    {
     "name": "stdout",
     "output_type": "stream",
     "text": [
      "Archivos dentro de 'Top 100 Influencers':\n",
      "['afghanistan', 'aland-islands', 'all-countries', 'argentina', 'australia', 'austria', 'belgium', 'bolivia', 'brazil', 'canada', 'chile', 'colombia', 'costa-rica', 'czechia', 'denmark', 'dominican-republic', 'ecuador', 'egypt', 'el-salvador', 'finland', 'france', 'germany', 'greece', 'guatemala', 'hong-kong', 'india', 'indonesia', 'italy', 'japan', 'kuwait', 'lebanon', 'malaysia', 'mexico', 'morocco', 'netherlands', 'norway', 'pakistan', 'panama', 'paraguay', 'peru', 'philippines', 'poland', 'portugal', 'puerto-rico', 'romania', 'russia', 'saudi-arabia', 'singapore', 'slovakia', 'south-africa', 'south-korea', 'spain', 'sweden', 'switzerland', 'thailand', 'turkey', 'ukraine', 'united-arab-emirates', 'united-kingdom', 'united-states', 'uruguay']\n"
     ]
    }
   ],
   "source": [
    "# Definir la ruta dentro del dataset\n",
    "influencers_path = os.path.join(dataset_path, \"Top 100 Influencers\")\n",
    "\n",
    "# Listar los archivos dentro de la carpeta \"Top 100 Influencers\"\n",
    "print(\"Archivos dentro de 'Top 100 Influencers':\")\n",
    "print(os.listdir(influencers_path))\n"
   ]
  },
  {
   "cell_type": "code",
   "execution_count": 5,
   "metadata": {},
   "outputs": [
    {
     "name": "stdout",
     "output_type": "stream",
     "text": [
      "Archivos dentro de 'colombia':\n",
      "['instagram_data_colombia.csv', 'threads_data_colombia.csv', 'tiktok_data_colombia.csv', 'youtube_data_colombia.csv']\n"
     ]
    }
   ],
   "source": [
    "# Definir la ruta de la carpeta de Colombia\n",
    "colombia_path = os.path.join(dataset_path, \"Top 100 Influencers\", \"colombia\")\n",
    "\n",
    "# Listar los archivos dentro de la carpeta Colombia\n",
    "print(\"Archivos dentro de 'colombia':\")\n",
    "print(os.listdir(colombia_path))"
   ]
  },
  {
   "cell_type": "code",
   "execution_count": 6,
   "metadata": {},
   "outputs": [
    {
     "data": {
      "text/html": [
       "<div>\n",
       "<style scoped>\n",
       "    .dataframe tbody tr th:only-of-type {\n",
       "        vertical-align: middle;\n",
       "    }\n",
       "\n",
       "    .dataframe tbody tr th {\n",
       "        vertical-align: top;\n",
       "    }\n",
       "\n",
       "    .dataframe thead th {\n",
       "        text-align: right;\n",
       "    }\n",
       "</style>\n",
       "<table border=\"1\" class=\"dataframe\">\n",
       "  <thead>\n",
       "    <tr style=\"text-align: right;\">\n",
       "      <th></th>\n",
       "      <th>#</th>\n",
       "      <th>NAME</th>\n",
       "      <th>FOLLOWERS</th>\n",
       "      <th>ER</th>\n",
       "      <th>COUNTRY</th>\n",
       "      <th>TOPIC OF INFLUENCE</th>\n",
       "      <th>POTENTIAL REACH</th>\n",
       "    </tr>\n",
       "  </thead>\n",
       "  <tbody>\n",
       "    <tr>\n",
       "      <th>0</th>\n",
       "      <td>1</td>\n",
       "      <td>KAROL G @karolg</td>\n",
       "      <td>68.3M</td>\n",
       "      <td>5.59%</td>\n",
       "      <td>Colombia</td>\n",
       "      <td>Entertainment and Music Humor Film, Music &amp; Bo...</td>\n",
       "      <td>20.5M</td>\n",
       "    </tr>\n",
       "    <tr>\n",
       "      <th>1</th>\n",
       "      <td>2</td>\n",
       "      <td>MALUMA @maluma</td>\n",
       "      <td>63.9M</td>\n",
       "      <td>1.27%</td>\n",
       "      <td>Colombia</td>\n",
       "      <td>Entertainment and Music Music Singer</td>\n",
       "      <td>19.2M</td>\n",
       "    </tr>\n",
       "    <tr>\n",
       "      <th>2</th>\n",
       "      <td>3</td>\n",
       "      <td>James Rodríguez @jamesrodriguez10</td>\n",
       "      <td>51.9M</td>\n",
       "      <td>1%</td>\n",
       "      <td>Colombia</td>\n",
       "      <td>Sports Soccer</td>\n",
       "      <td>15.6M</td>\n",
       "    </tr>\n",
       "    <tr>\n",
       "      <th>3</th>\n",
       "      <td>4</td>\n",
       "      <td>J Balvin @jbalvin</td>\n",
       "      <td>51.5M</td>\n",
       "      <td>0.52%</td>\n",
       "      <td>Colombia</td>\n",
       "      <td>Art Singer Entertainment Music</td>\n",
       "      <td>15.5M</td>\n",
       "    </tr>\n",
       "    <tr>\n",
       "      <th>4</th>\n",
       "      <td>5</td>\n",
       "      <td>Sofia Vergara @sofiavergara</td>\n",
       "      <td>30.9M</td>\n",
       "      <td>0.71%</td>\n",
       "      <td>Colombia</td>\n",
       "      <td>Entertainment and Music Actors Modeling Celebr...</td>\n",
       "      <td>9.3M</td>\n",
       "    </tr>\n",
       "  </tbody>\n",
       "</table>\n",
       "</div>"
      ],
      "text/plain": [
       "   #                                NAME FOLLOWERS     ER   COUNTRY  \\\n",
       "0  1                     KAROL G @karolg     68.3M  5.59%  Colombia   \n",
       "1  2                      MALUMA @maluma     63.9M  1.27%  Colombia   \n",
       "2  3  James Rodríguez @jamesrodriguez10     51.9M     1%  Colombia   \n",
       "3  4                   J Balvin @jbalvin     51.5M  0.52%  Colombia   \n",
       "4  5         Sofia Vergara @sofiavergara     30.9M  0.71%  Colombia   \n",
       "\n",
       "                                  TOPIC OF INFLUENCE POTENTIAL REACH  \n",
       "0  Entertainment and Music Humor Film, Music & Bo...           20.5M  \n",
       "1               Entertainment and Music Music Singer           19.2M  \n",
       "2                                      Sports Soccer           15.6M  \n",
       "3                     Art Singer Entertainment Music           15.5M  \n",
       "4  Entertainment and Music Actors Modeling Celebr...            9.3M  "
      ]
     },
     "execution_count": 6,
     "metadata": {},
     "output_type": "execute_result"
    }
   ],
   "source": [
    "# Definir la ruta del archivo específico\n",
    "instagram_file = os.path.join(dataset_path, \"Top 100 Influencers\", \"colombia\", \"instagram_data_colombia.csv\")\n",
    "\n",
    "# Cargar el dataset en un DataFrame\n",
    "df_colombia = pd.read_csv(instagram_file)\n",
    "\n",
    "# Mostrar las primeras filas del DataFrame\n",
    "df_colombia.head()"
   ]
  },
  {
   "cell_type": "markdown",
   "metadata": {},
   "source": [
    "### **Exploracion de Datos**"
   ]
  },
  {
   "cell_type": "markdown",
   "metadata": {},
   "source": [
    "En esta etapa, analizaremos la estructura del dataset para comprender mejor su contenido. Esto incluye:\n",
    "1. Revisar la información general del DataFrame, como el tipo de datos y valores nulos.\n",
    "2. Obtener estadísticas descriptivas para conocer distribuciones y tendencias.\n",
    "3. Contar la cantidad de influencers por categoría para identificar qué tipo de contenido es más frecuente.\n",
    "\n",
    "Este análisis nos ayudará a preparar los datos para su posterior limpieza y visualización"
   ]
  },
  {
   "cell_type": "code",
   "execution_count": 7,
   "metadata": {},
   "outputs": [
    {
     "name": "stdout",
     "output_type": "stream",
     "text": [
      "<class 'pandas.core.frame.DataFrame'>\n",
      "RangeIndex: 100 entries, 0 to 99\n",
      "Data columns (total 7 columns):\n",
      " #   Column              Non-Null Count  Dtype \n",
      "---  ------              --------------  ----- \n",
      " 0   #                   100 non-null    int64 \n",
      " 1   NAME                100 non-null    object\n",
      " 2   FOLLOWERS           100 non-null    object\n",
      " 3   ER                  100 non-null    object\n",
      " 4   COUNTRY             100 non-null    object\n",
      " 5   TOPIC OF INFLUENCE  98 non-null     object\n",
      " 6   POTENTIAL REACH     100 non-null    object\n",
      "dtypes: int64(1), object(6)\n",
      "memory usage: 5.6+ KB\n"
     ]
    }
   ],
   "source": [
    "df_colombia.info()"
   ]
  },
  {
   "cell_type": "code",
   "execution_count": 8,
   "metadata": {},
   "outputs": [
    {
     "data": {
      "text/html": [
       "<div>\n",
       "<style scoped>\n",
       "    .dataframe tbody tr th:only-of-type {\n",
       "        vertical-align: middle;\n",
       "    }\n",
       "\n",
       "    .dataframe tbody tr th {\n",
       "        vertical-align: top;\n",
       "    }\n",
       "\n",
       "    .dataframe thead th {\n",
       "        text-align: right;\n",
       "    }\n",
       "</style>\n",
       "<table border=\"1\" class=\"dataframe\">\n",
       "  <thead>\n",
       "    <tr style=\"text-align: right;\">\n",
       "      <th></th>\n",
       "      <th>#</th>\n",
       "    </tr>\n",
       "  </thead>\n",
       "  <tbody>\n",
       "    <tr>\n",
       "      <th>count</th>\n",
       "      <td>100.000000</td>\n",
       "    </tr>\n",
       "    <tr>\n",
       "      <th>mean</th>\n",
       "      <td>50.500000</td>\n",
       "    </tr>\n",
       "    <tr>\n",
       "      <th>std</th>\n",
       "      <td>29.011492</td>\n",
       "    </tr>\n",
       "    <tr>\n",
       "      <th>min</th>\n",
       "      <td>1.000000</td>\n",
       "    </tr>\n",
       "    <tr>\n",
       "      <th>25%</th>\n",
       "      <td>25.750000</td>\n",
       "    </tr>\n",
       "    <tr>\n",
       "      <th>50%</th>\n",
       "      <td>50.500000</td>\n",
       "    </tr>\n",
       "    <tr>\n",
       "      <th>75%</th>\n",
       "      <td>75.250000</td>\n",
       "    </tr>\n",
       "    <tr>\n",
       "      <th>max</th>\n",
       "      <td>100.000000</td>\n",
       "    </tr>\n",
       "  </tbody>\n",
       "</table>\n",
       "</div>"
      ],
      "text/plain": [
       "                #\n",
       "count  100.000000\n",
       "mean    50.500000\n",
       "std     29.011492\n",
       "min      1.000000\n",
       "25%     25.750000\n",
       "50%     50.500000\n",
       "75%     75.250000\n",
       "max    100.000000"
      ]
     },
     "execution_count": 8,
     "metadata": {},
     "output_type": "execute_result"
    }
   ],
   "source": [
    "df_colombia.describe()"
   ]
  },
  {
   "cell_type": "markdown",
   "metadata": {},
   "source": [
    "### **Limpieza de Datos**"
   ]
  },
  {
   "cell_type": "markdown",
   "metadata": {},
   "source": [
    "En esta fase, realizaremos la limpieza de los datos para asegurarnos de que sean adecuados para el análisis. Esto incluye:\n",
    "1. Eliminar valores nulos para evitar inconsistencias en el análisis.\n",
    "2. Renombrar las columnas para mayor claridad.\n",
    "3. Cambiar el índice del DataFrame utilizando la columna 'CLASIFICACION'.\n",
    "4. Separar los valores de la columna 'TEMA' en listas individuales."
   ]
  },
  {
   "cell_type": "code",
   "execution_count": 9,
   "metadata": {},
   "outputs": [],
   "source": [
    "# Eliminar los datos que se encuentran con valores nulos\n",
    "df_colombia.dropna(inplace=True)"
   ]
  },
  {
   "cell_type": "code",
   "execution_count": 10,
   "metadata": {},
   "outputs": [],
   "source": [
    "# Renombrar las columnas a español\n",
    "df_colombia.rename(columns={'#':'CLASIFICACION','NAME':'NOMBRE','FOLLOWERS':'NUM SEGUIDORES','ER': 'ENGAGEMENT', 'COUNTRY':'PAIS','TOPIC OF INFLUENCE':'TEMA','POTENTIAL REACH':'ALCANCE POTENCIALl'}, inplace=True)"
   ]
  },
  {
   "cell_type": "code",
   "execution_count": 11,
   "metadata": {},
   "outputs": [
    {
     "data": {
      "text/html": [
       "<div>\n",
       "<style scoped>\n",
       "    .dataframe tbody tr th:only-of-type {\n",
       "        vertical-align: middle;\n",
       "    }\n",
       "\n",
       "    .dataframe tbody tr th {\n",
       "        vertical-align: top;\n",
       "    }\n",
       "\n",
       "    .dataframe thead th {\n",
       "        text-align: right;\n",
       "    }\n",
       "</style>\n",
       "<table border=\"1\" class=\"dataframe\">\n",
       "  <thead>\n",
       "    <tr style=\"text-align: right;\">\n",
       "      <th></th>\n",
       "      <th>NOMBRE</th>\n",
       "      <th>NUM SEGUIDORES</th>\n",
       "      <th>ENGAGEMENT</th>\n",
       "      <th>PAIS</th>\n",
       "      <th>TEMA</th>\n",
       "      <th>ALCANCE POTENCIALl</th>\n",
       "    </tr>\n",
       "    <tr>\n",
       "      <th>CLASIFICACION</th>\n",
       "      <th></th>\n",
       "      <th></th>\n",
       "      <th></th>\n",
       "      <th></th>\n",
       "      <th></th>\n",
       "      <th></th>\n",
       "    </tr>\n",
       "  </thead>\n",
       "  <tbody>\n",
       "    <tr>\n",
       "      <th>1</th>\n",
       "      <td>KAROL G @karolg</td>\n",
       "      <td>68.3M</td>\n",
       "      <td>5.59%</td>\n",
       "      <td>Colombia</td>\n",
       "      <td>Entertainment and Music Humor Film, Music &amp; Bo...</td>\n",
       "      <td>20.5M</td>\n",
       "    </tr>\n",
       "    <tr>\n",
       "      <th>2</th>\n",
       "      <td>MALUMA @maluma</td>\n",
       "      <td>63.9M</td>\n",
       "      <td>1.27%</td>\n",
       "      <td>Colombia</td>\n",
       "      <td>Entertainment and Music Music Singer</td>\n",
       "      <td>19.2M</td>\n",
       "    </tr>\n",
       "    <tr>\n",
       "      <th>3</th>\n",
       "      <td>James Rodríguez @jamesrodriguez10</td>\n",
       "      <td>51.9M</td>\n",
       "      <td>1%</td>\n",
       "      <td>Colombia</td>\n",
       "      <td>Sports Soccer</td>\n",
       "      <td>15.6M</td>\n",
       "    </tr>\n",
       "    <tr>\n",
       "      <th>4</th>\n",
       "      <td>J Balvin @jbalvin</td>\n",
       "      <td>51.5M</td>\n",
       "      <td>0.52%</td>\n",
       "      <td>Colombia</td>\n",
       "      <td>Art Singer Entertainment Music</td>\n",
       "      <td>15.5M</td>\n",
       "    </tr>\n",
       "    <tr>\n",
       "      <th>5</th>\n",
       "      <td>Sofia Vergara @sofiavergara</td>\n",
       "      <td>30.9M</td>\n",
       "      <td>0.71%</td>\n",
       "      <td>Colombia</td>\n",
       "      <td>Entertainment and Music Actors Modeling Celebr...</td>\n",
       "      <td>9.3M</td>\n",
       "    </tr>\n",
       "  </tbody>\n",
       "</table>\n",
       "</div>"
      ],
      "text/plain": [
       "                                           NOMBRE NUM SEGUIDORES ENGAGEMENT  \\\n",
       "CLASIFICACION                                                                 \n",
       "1                                 KAROL G @karolg          68.3M      5.59%   \n",
       "2                                  MALUMA @maluma          63.9M      1.27%   \n",
       "3              James Rodríguez @jamesrodriguez10          51.9M         1%   \n",
       "4                               J Balvin @jbalvin          51.5M      0.52%   \n",
       "5                     Sofia Vergara @sofiavergara          30.9M      0.71%   \n",
       "\n",
       "                   PAIS                                               TEMA  \\\n",
       "CLASIFICACION                                                                \n",
       "1              Colombia  Entertainment and Music Humor Film, Music & Bo...   \n",
       "2              Colombia               Entertainment and Music Music Singer   \n",
       "3              Colombia                                      Sports Soccer   \n",
       "4              Colombia                     Art Singer Entertainment Music   \n",
       "5              Colombia  Entertainment and Music Actors Modeling Celebr...   \n",
       "\n",
       "              ALCANCE POTENCIALl  \n",
       "CLASIFICACION                     \n",
       "1                          20.5M  \n",
       "2                          19.2M  \n",
       "3                          15.6M  \n",
       "4                          15.5M  \n",
       "5                           9.3M  "
      ]
     },
     "execution_count": 11,
     "metadata": {},
     "output_type": "execute_result"
    }
   ],
   "source": [
    "# Cambiar el índice del DataFrame a la columna 'CLASIFICACION'\n",
    "df_colombia.set_index('CLASIFICACION', inplace=True)\n",
    "df_colombia.head()"
   ]
  },
  {
   "cell_type": "code",
   "execution_count": 12,
   "metadata": {},
   "outputs": [
    {
     "name": "stdout",
     "output_type": "stream",
     "text": [
      "                                           NOMBRE NUM SEGUIDORES ENGAGEMENT  \\\n",
      "CLASIFICACION                                                                 \n",
      "1                                 KAROL G @karolg          68.3M      5.59%   \n",
      "2                                  MALUMA @maluma          63.9M      1.27%   \n",
      "3              James Rodríguez @jamesrodriguez10          51.9M         1%   \n",
      "4                               J Balvin @jbalvin          51.5M      0.52%   \n",
      "5                     Sofia Vergara @sofiavergara          30.9M      0.71%   \n",
      "\n",
      "                   PAIS ALCANCE POTENCIALl    Categoria 1 Categoria 2  \\\n",
      "CLASIFICACION                                                           \n",
      "1              Colombia              20.5M  Entertainment       Music   \n",
      "2              Colombia              19.2M  Entertainment       Music   \n",
      "3              Colombia              15.6M         Sports         NaN   \n",
      "4              Colombia              15.5M  Entertainment       Music   \n",
      "5              Colombia               9.3M  Entertainment       Music   \n",
      "\n",
      "              Categoria 3 Categoria 4  Categoria 5  Categoria 6  \n",
      "CLASIFICACION                                                    \n",
      "1                   Humor        Film        Books  Celebrities  \n",
      "2                  Singer         NaN          NaN          NaN  \n",
      "3                     NaN         NaN          NaN          NaN  \n",
      "4                  Singer         Art          NaN          NaN  \n",
      "5                  Actors    Modeling  Celebrities          NaN  \n"
     ]
    }
   ],
   "source": [
    "# Definir las categorías predefinidas\n",
    "categorias = [\"Entertainment\", \"Music\", \"Humor\", \"Film\", \"Singer\", \"Sports\", \"Art\", \"Actors\", \"Modeling\", \"Books\", \"Celebrities\", \"Fitness and Health\", \"Food & Drink\", \"Acting and Drama\", \"Beauty and Self Care\", \"Business and Finance\", \"Arts and Crafts\", \"Animation and Cosplay\", \"Marketing and Advertising\", \"Virtualization\", \"Journalists\", \"Family Education\", \"Showcase\", \"Fashion and Accessories\"]\n",
    "\n",
    "# Crear nuevas columnas para las categorías\n",
    "def categorizar_tema(tema):\n",
    "    temas = tema.split(',') if isinstance(tema, str) else []\n",
    "    return [categoria for categoria in categorias if any(categoria.lower() in t.lower() for t in temas)]\n",
    "\n",
    "# Aplicar la categorización a cada fila\n",
    "df_colombia['Categorias'] = df_colombia['TEMA'].apply(categorizar_tema)\n",
    "\n",
    "# Expandir las categorías en columnas separadas\n",
    "categorias_expandido = df_colombia['Categorias'].apply(pd.Series)\n",
    "categorias_expandido.columns = [f'Categoria {i+1}' for i in range(categorias_expandido.shape[1])]\n",
    "\n",
    "# Unir las nuevas columnas al DataFrame original\n",
    "df_colombia = df_colombia.join(categorias_expandido).drop(columns=['TEMA', 'Categorias'])\n",
    "\n",
    "# Mostrar las primeras filas después de la limpieza\n",
    "print(df_colombia.head())"
   ]
  },
  {
   "cell_type": "markdown",
   "metadata": {},
   "source": [
    "### **Visualización y Análisis de Datos**"
   ]
  },
  {
   "cell_type": "markdown",
   "metadata": {},
   "source": [
    "En esta etapa, utilizaremos gráficos y estadísticas para responder la pregunta clave del análisis:\n",
    "**¿Cómo varía el engagement de los influencers colombianos en redes sociales según la categoría de contenido que publican?**\n",
    "\n",
    "Pasos a seguir:\n",
    "1. **Histogramas** para analizar la distribución del engagement y seguidores.\n",
    "2. **Boxplots** para comparar el engagement entre diferentes categorías.\n",
    "3. **Cálculo de estadísticas clave**, como la media de engagement por categoría, para identificar qué tipo de contenido genera mayor interacción"
   ]
  },
  {
   "cell_type": "code",
   "execution_count": 13,
   "metadata": {},
   "outputs": [],
   "source": [
    "# Convertir Engagement Rate de porcentaje a float\n",
    "df_colombia['ENGAGEMENT'] = df_colombia['ENGAGEMENT'].str.replace('%', '').astype(float) / 100\n",
    "\n",
    "# Crear grupos de engagement en intervalos de 0.5\n",
    "df_colombia['ENGAGEMENT_GROUP'] = pd.cut(df_colombia['ENGAGEMENT'], bins=[i/100 for i in range(0, 55, 5)], right=False)"
   ]
  },
  {
   "cell_type": "code",
   "execution_count": 14,
   "metadata": {},
   "outputs": [
    {
     "data": {
      "text/html": [
       "<div>\n",
       "<style scoped>\n",
       "    .dataframe tbody tr th:only-of-type {\n",
       "        vertical-align: middle;\n",
       "    }\n",
       "\n",
       "    .dataframe tbody tr th {\n",
       "        vertical-align: top;\n",
       "    }\n",
       "\n",
       "    .dataframe thead th {\n",
       "        text-align: right;\n",
       "    }\n",
       "</style>\n",
       "<table border=\"1\" class=\"dataframe\">\n",
       "  <thead>\n",
       "    <tr style=\"text-align: right;\">\n",
       "      <th></th>\n",
       "      <th>NOMBRE</th>\n",
       "      <th>NUM SEGUIDORES</th>\n",
       "      <th>ENGAGEMENT</th>\n",
       "      <th>PAIS</th>\n",
       "      <th>ALCANCE POTENCIALl</th>\n",
       "      <th>Categoria 1</th>\n",
       "      <th>Categoria 2</th>\n",
       "      <th>Categoria 3</th>\n",
       "      <th>Categoria 4</th>\n",
       "      <th>Categoria 5</th>\n",
       "      <th>Categoria 6</th>\n",
       "      <th>ENGAGEMENT_GROUP</th>\n",
       "    </tr>\n",
       "    <tr>\n",
       "      <th>CLASIFICACION</th>\n",
       "      <th></th>\n",
       "      <th></th>\n",
       "      <th></th>\n",
       "      <th></th>\n",
       "      <th></th>\n",
       "      <th></th>\n",
       "      <th></th>\n",
       "      <th></th>\n",
       "      <th></th>\n",
       "      <th></th>\n",
       "      <th></th>\n",
       "      <th></th>\n",
       "    </tr>\n",
       "  </thead>\n",
       "  <tbody>\n",
       "    <tr>\n",
       "      <th>1</th>\n",
       "      <td>KAROL G @karolg</td>\n",
       "      <td>68.3M</td>\n",
       "      <td>0.0559</td>\n",
       "      <td>Colombia</td>\n",
       "      <td>20.5M</td>\n",
       "      <td>Entertainment</td>\n",
       "      <td>Music</td>\n",
       "      <td>Humor</td>\n",
       "      <td>Film</td>\n",
       "      <td>Books</td>\n",
       "      <td>Celebrities</td>\n",
       "      <td>[0.05, 0.1)</td>\n",
       "    </tr>\n",
       "    <tr>\n",
       "      <th>2</th>\n",
       "      <td>MALUMA @maluma</td>\n",
       "      <td>63.9M</td>\n",
       "      <td>0.0127</td>\n",
       "      <td>Colombia</td>\n",
       "      <td>19.2M</td>\n",
       "      <td>Entertainment</td>\n",
       "      <td>Music</td>\n",
       "      <td>Singer</td>\n",
       "      <td>NaN</td>\n",
       "      <td>NaN</td>\n",
       "      <td>NaN</td>\n",
       "      <td>[0.0, 0.05)</td>\n",
       "    </tr>\n",
       "    <tr>\n",
       "      <th>3</th>\n",
       "      <td>James Rodríguez @jamesrodriguez10</td>\n",
       "      <td>51.9M</td>\n",
       "      <td>0.0100</td>\n",
       "      <td>Colombia</td>\n",
       "      <td>15.6M</td>\n",
       "      <td>Sports</td>\n",
       "      <td>NaN</td>\n",
       "      <td>NaN</td>\n",
       "      <td>NaN</td>\n",
       "      <td>NaN</td>\n",
       "      <td>NaN</td>\n",
       "      <td>[0.0, 0.05)</td>\n",
       "    </tr>\n",
       "    <tr>\n",
       "      <th>4</th>\n",
       "      <td>J Balvin @jbalvin</td>\n",
       "      <td>51.5M</td>\n",
       "      <td>0.0052</td>\n",
       "      <td>Colombia</td>\n",
       "      <td>15.5M</td>\n",
       "      <td>Entertainment</td>\n",
       "      <td>Music</td>\n",
       "      <td>Singer</td>\n",
       "      <td>Art</td>\n",
       "      <td>NaN</td>\n",
       "      <td>NaN</td>\n",
       "      <td>[0.0, 0.05)</td>\n",
       "    </tr>\n",
       "    <tr>\n",
       "      <th>5</th>\n",
       "      <td>Sofia Vergara @sofiavergara</td>\n",
       "      <td>30.9M</td>\n",
       "      <td>0.0071</td>\n",
       "      <td>Colombia</td>\n",
       "      <td>9.3M</td>\n",
       "      <td>Entertainment</td>\n",
       "      <td>Music</td>\n",
       "      <td>Actors</td>\n",
       "      <td>Modeling</td>\n",
       "      <td>Celebrities</td>\n",
       "      <td>NaN</td>\n",
       "      <td>[0.0, 0.05)</td>\n",
       "    </tr>\n",
       "  </tbody>\n",
       "</table>\n",
       "</div>"
      ],
      "text/plain": [
       "                                           NOMBRE NUM SEGUIDORES  ENGAGEMENT  \\\n",
       "CLASIFICACION                                                                  \n",
       "1                                 KAROL G @karolg          68.3M      0.0559   \n",
       "2                                  MALUMA @maluma          63.9M      0.0127   \n",
       "3              James Rodríguez @jamesrodriguez10          51.9M      0.0100   \n",
       "4                               J Balvin @jbalvin          51.5M      0.0052   \n",
       "5                     Sofia Vergara @sofiavergara          30.9M      0.0071   \n",
       "\n",
       "                   PAIS ALCANCE POTENCIALl    Categoria 1 Categoria 2  \\\n",
       "CLASIFICACION                                                           \n",
       "1              Colombia              20.5M  Entertainment       Music   \n",
       "2              Colombia              19.2M  Entertainment       Music   \n",
       "3              Colombia              15.6M         Sports         NaN   \n",
       "4              Colombia              15.5M  Entertainment       Music   \n",
       "5              Colombia               9.3M  Entertainment       Music   \n",
       "\n",
       "              Categoria 3 Categoria 4  Categoria 5  Categoria 6  \\\n",
       "CLASIFICACION                                                     \n",
       "1                   Humor        Film        Books  Celebrities   \n",
       "2                  Singer         NaN          NaN          NaN   \n",
       "3                     NaN         NaN          NaN          NaN   \n",
       "4                  Singer         Art          NaN          NaN   \n",
       "5                  Actors    Modeling  Celebrities          NaN   \n",
       "\n",
       "              ENGAGEMENT_GROUP  \n",
       "CLASIFICACION                   \n",
       "1                  [0.05, 0.1)  \n",
       "2                  [0.0, 0.05)  \n",
       "3                  [0.0, 0.05)  \n",
       "4                  [0.0, 0.05)  \n",
       "5                  [0.0, 0.05)  "
      ]
     },
     "execution_count": 14,
     "metadata": {},
     "output_type": "execute_result"
    }
   ],
   "source": [
    "df_colombia.head()"
   ]
  },
  {
   "cell_type": "code",
   "execution_count": 16,
   "metadata": {},
   "outputs": [
    {
     "data": {
      "image/png": "[encoded data removed]",
      "text/plain": [
       "<Figure size 1000x600 with 1 Axes>"
      ]
     },
     "metadata": {},
     "output_type": "display_data"
    }
   ],
   "source": [
    "# Visualización de la distribución del engagement con intervalos\n",
    "plt.figure(figsize=(10,6))\n",
    "sns.histplot(df_colombia, x='ENGAGEMENT', bins=10, kde=True)\n",
    "plt.title('Distribución del Engagement de Influencers Colombianos (Agrupado)')\n",
    "plt.xlabel('Engagement Rate (Decimal)')\n",
    "plt.ylabel('Frecuencia')\n",
    "plt.show()"
   ]
  },
  {
   "cell_type": "code",
   "execution_count": 17,
   "metadata": {},
   "outputs": [
    {
     "data": {
      "image/png": "[encoded data removed]",
      "text/plain": [
       "<Figure size 1200x600 with 1 Axes>"
      ]
     },
     "metadata": {},
     "output_type": "display_data"
    }
   ],
   "source": [
    "# Boxplot del engagement por categoría\n",
    "plt.figure(figsize=(12,6))\n",
    "sns.boxplot(x='Categoria 1', y='ENGAGEMENT', data=df_colombia)\n",
    "plt.xticks(rotation=90)\n",
    "plt.title('Comparación del Engagement por Categoría')\n",
    "plt.xlabel('Categoría')\n",
    "plt.ylabel('Engagement Rate')\n",
    "plt.show()"
   ]
  },
  {
   "cell_type": "code",
   "execution_count": 18,
   "metadata": {},
   "outputs": [
    {
     "name": "stdout",
     "output_type": "stream",
     "text": [
      "Media de Engagement por Categoría:\n",
      "Categoria 1\n",
      "Business and Finance         0.043500\n",
      "Animation and Cosplay        0.029900\n",
      "Sports                       0.022533\n",
      "Beauty and Self Care         0.021120\n",
      "Acting and Drama             0.014350\n",
      "Fitness and Health           0.012067\n",
      "Actors                       0.011823\n",
      "Entertainment                0.011405\n",
      "Music                        0.010633\n",
      "Art                          0.010033\n",
      "Marketing and Advertising    0.007150\n",
      "Humor                        0.006600\n",
      "Name: ENGAGEMENT, dtype: float64\n"
     ]
    }
   ],
   "source": [
    "# Cálculo de la media de engagement por categoría\n",
    "engagement_por_categoria = df_colombia.groupby('Categoria 1')['ENGAGEMENT'].mean().sort_values(ascending=False)\n",
    "print(\"Media de Engagement por Categoría:\")\n",
    "print(engagement_por_categoria)"
   ]
  },
  {
   "cell_type": "markdown",
   "metadata": {},
   "source": [
    "### **Conclusiones**"
   ]
  },
  {
   "cell_type": "markdown",
   "metadata": {},
   "source": [
    "**Categorías con mayor engagement:**\n",
    "   - Las categorías relacionadas con **Deportes, Música y Beauty & Self Care** muestran valores altos de engagement, aunque con variabilidad en los datos.\n",
    "   - Influencers en **Fitness & Health y Business & Finance** tienen un engagement más bajo, lo que sugiere que el público responde mejor a contenido de entretenimiento y estilo de vida.\n",
    "\n",
    "2. **Distribución del engagement:**\n",
    "   - La mayor parte de los influencers tienen un engagement menor al **2%**, con casos excepcionales por encima del **5%**.\n",
    "   - Se observa que los influencers más seguidos no necesariamente tienen el mayor engagement, lo que refuerza la importancia de la calidad del contenido sobre la cantidad de seguidores.\n",
    "\n",
    "3. **Relación entre categorías y engagement:**\n",
    "   - Las categorías **Deportes y Beauty & Self Care** tienen una alta variabilidad en su engagement, lo que indica que algunos influencers destacan con interacciones excepcionales mientras que otros no.\n",
    "   - Algunas categorías como **Marketing y Publicidad** presentan niveles de engagement más bajos, lo que sugiere que requieren estrategias más especializadas.\n",
    "\n",
    "4. **Estrategias recomendadas:**\n",
    "   - **Optimización del contenido:** Las marcas deben alinear su estrategia con categorías de alto engagement para maximizar la interacción.\n",
    "   - **Selección estratégica de influencers:** No solo basarse en el número de seguidores, sino en la tasa de engagement.\n",
    "   - **Uso de microinfluencers:** Aquellos con audiencias más pequeñas pero comprometidas pueden ofrecer mejores resultados en ciertos nichos. En categorías como **Beauty & Self Care o Deportes**, estos influencers pueden alcanzar tasas de engagement más altas.\n",
    "   - **Medición continua:** Implementar análisis constantes para evaluar el desempeño y ajustar estrategias en función de los cambios en tendencias y preferencias del público.\n",
    "\n",
    "Estas conclusiones ayudan a comprender qué tipos de influencers y contenidos son más efectivos para generar interacción en redes sociales en Colombia, proporcionando un enfoque basado en datos para futuras campañas de marketing digital.\n"
   ]
  }
 ],
 "metadata": {
  "kernelspec": {
   "display_name": "Python 3",
   "language": "python",
   "name": "python3"
  },
  "language_info": {
   "codemirror_mode": {
    "name": "ipython",
    "version": 3
   },
   "file_extension": ".py",
   "mimetype": "text/x-python",
   "name": "python",
   "nbconvert_exporter": "python",
   "pygments_lexer": "ipython3",
   "version": "3.11.9"
  }
 },
 "nbformat": 4,
 "nbformat_minor": 2
}
